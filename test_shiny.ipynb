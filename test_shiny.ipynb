{
 "cells": [
  {
   "cell_type": "code",
   "execution_count": null,
   "id": "b0ab87f2",
   "metadata": {},
   "outputs": [],
   "source": [
    "library(shiny)\n",
    "ui <- fluidPage(\n",
    "  titlePanel(\"Hello Shiny!\"),\n",
    "  sliderInput(\"obs\", \"Number of observations:\", min = 1, max = 1000, value = 500),\n",
    "  plotOutput(\"distPlot\")\n",
    ")\n",
    "server <- function(input, output) {\n",
    "  output$distPlot <- renderPlot({\n",
    "    hist(rnorm(input$obs))\n",
    "  })\n",
    "}\n",
    "shinyApp(ui = ui, server = server)"
   ]
  }
 ],
 "metadata": {
  "kernelspec": {
   "display_name": "Python 3",
   "language": "python",
   "name": "python3"
  },
  "language_info": {
   "codemirror_mode": "r",
   "file_extension": ".r",
   "mimetype": "text/x-r-source",
   "name": "python",
   "pygments_lexer": "r",
   "version": "3.12.9"
  }
 },
 "nbformat": 4,
 "nbformat_minor": 5
}
