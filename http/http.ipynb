{
 "cells": [
  {
   "cell_type": "code",
   "execution_count": 12,
   "id": "348e2561",
   "metadata": {
    "vscode": {
     "languageId": "r"
    }
   },
   "outputs": [
    {
     "name": "stdout",
     "output_type": "stream",
     "text": [
      "[1] \"<!DOCTYPE html>\\n<html class=\\\"client-nojs vector-feature-language-in-header-enabled vector-feature-language-in-main-page-header-disabled vector-feature-page-tools-pinned-disabled vector-feature-toc-pinned-clientpref-1 vector-feature-main-menu-pinned-disabled vector-feature-limited-width-clientpref-1 vector-feature-limited-width-content-enabled vector-feature-custom-font-size-clientpref-1 vector-feature-appearance-pinned-clientpref-1 vector-feature-night-mode-enabled skin-theme-clientpref-day vector-sticky-header-enabled vector-toc-available\\\" lang=\\\"en\\\" dir=\\\"ltr\\\">\\n<head>\\n<meta charset=\\\"UTF-8\\\">\\n<title>COVID-19 pandemic - Wikipedia</title>\\n<script>(function(){var className=\\\"client-js vector-feature-language-in-header-enabled vector-feature-language-in-main-page-header-disabled vector-feature-page-tools-pinned-disabled vector-feature-toc-pinned-clientpref-1 vector-feature-main-menu-pinned-disabled vector-feature-limited-width-clientpref-1 vector-feature-limited-width-content-enabled vector-f\"\n"
     ]
    }
   ],
   "source": [
    "# Load the httr package\n",
    "library(httr)\n",
    "\n",
    "# Define the URL for the Wikipedia page (COVID-19 pandemic)\n",
    "url <- \"https://en.wikipedia.org/wiki/COVID-19_pandemic\"\n",
    "\n",
    "# Send an HTTP GET request to fetch the page\n",
    "response <- GET(url)\n",
    "\n",
    "# Check the status of the response\n",
    "if (status_code(response) == 200) {\n",
    "  # Read the content from the response\n",
    "  content <- content(response, \"text\")\n",
    "  \n",
    "  # Optionally, print the first 1000 characters of the content\n",
    "  print(substr(content, 1, 1000))\n",
    "} else {\n",
    "  print(\"Failed to retrieve the page.\")\n",
    "}\n"
   ]
  },
  {
   "cell_type": "code",
   "execution_count": 13,
   "id": "550cea34",
   "metadata": {
    "vscode": {
     "languageId": "r"
    }
   },
   "outputs": [],
   "source": [
    "image_headers <- headers(response)"
   ]
  },
  {
   "cell_type": "code",
   "execution_count": null,
   "id": "d61ae6ef",
   "metadata": {
    "vscode": {
     "languageId": "r"
    }
   },
   "outputs": [],
   "source": []
  }
 ],
 "metadata": {
  "kernelspec": {
   "display_name": "R",
   "language": "R",
   "name": "ir"
  },
  "language_info": {
   "codemirror_mode": "r",
   "file_extension": ".r",
   "mimetype": "text/x-r-source",
   "name": "R",
   "pygments_lexer": "r",
   "version": "4.4.3"
  }
 },
 "nbformat": 4,
 "nbformat_minor": 5
}
