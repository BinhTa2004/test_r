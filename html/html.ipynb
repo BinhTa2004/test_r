{
 "cells": [
  {
   "cell_type": "code",
   "execution_count": 1,
   "id": "9cf38aa2",
   "metadata": {
    "vscode": {
     "languageId": "r"
    }
   },
   "outputs": [],
   "source": [
    "library(rvest)\n",
    "library(httr)"
   ]
  },
  {
   "cell_type": "code",
   "execution_count": 2,
   "id": "eb6095e8",
   "metadata": {
    "vscode": {
     "languageId": "r"
    }
   },
   "outputs": [
    {
     "data": {
      "text/plain": [
       "{html_document}\n",
       "<html class=\"client-nojs vector-feature-language-in-header-enabled vector-feature-language-in-main-page-header-disabled vector-feature-page-tools-pinned-disabled vector-feature-toc-pinned-clientpref-1 vector-feature-main-menu-pinned-disabled vector-feature-limited-width-clientpref-1 vector-feature-limited-width-content-enabled vector-feature-custom-font-size-clientpref-1 vector-feature-appearance-pinned-clientpref-1 vector-feature-night-mode-enabled skin-theme-clientpref-day vector-sticky-header-enabled vector-toc-available\" lang=\"en\" dir=\"ltr\">\n",
       "[1] <head>\\n<meta http-equiv=\"Content-Type\" content=\"text/html; charset=UTF-8 ...\n",
       "[2] <body class=\"skin--responsive skin-vector skin-vector-search-vue mediawik ..."
      ]
     },
     "metadata": {},
     "output_type": "display_data"
    }
   ],
   "source": [
    "webpage = read_html(\"https://en.wikipedia.org/wiki/COVID-19_pandemic\")\n",
    "webpage"
   ]
  },
  {
   "cell_type": "code",
   "execution_count": 3,
   "id": "47a29b80",
   "metadata": {
    "vscode": {
     "languageId": "r"
    }
   },
   "outputs": [
    {
     "data": {
      "text/plain": [
       "{html_document}\n",
       "<html class=\"client-nojs vector-feature-language-in-header-enabled vector-feature-language-in-main-page-header-disabled vector-feature-page-tools-pinned-disabled vector-feature-toc-pinned-clientpref-1 vector-feature-main-menu-pinned-disabled vector-feature-limited-width-clientpref-1 vector-feature-limited-width-content-enabled vector-feature-custom-font-size-clientpref-1 vector-feature-appearance-pinned-clientpref-1 vector-feature-night-mode-enabled skin-theme-clientpref-day vector-sticky-header-enabled vector-toc-available\" lang=\"en\" dir=\"ltr\">\n",
       "[1] <head>\\n<meta http-equiv=\"Content-Type\" content=\"text/html; charset=UTF-8 ...\n",
       "[2] <body class=\"skin--responsive skin-vector skin-vector-search-vue mediawik ..."
      ]
     },
     "metadata": {},
     "output_type": "display_data"
    }
   ],
   "source": [
    "download.file('https://en.wikipedia.org/wiki/COVID-19_pandemic',destfile = 'covid.html')\n",
    "webpage = read_html('covid.html')\n",
    "webpage"
   ]
  },
  {
   "cell_type": "code",
   "execution_count": 5,
   "id": "453761f7",
   "metadata": {
    "vscode": {
     "languageId": "r"
    }
   },
   "outputs": [
    {
     "data": {
      "text/plain": [
       "{html_node}\n",
       "<body class=\"skin--responsive skin-vector skin-vector-search-vue mediawiki ltr sitedir-ltr mw-hide-empty-elt ns-0 ns-subject page-COVID-19_pandemic rootpage-COVID-19_pandemic skin-vector-2022 action-view\">\n",
       "[1] <a class=\"mw-jump-link\" href=\"#bodyContent\">Jump to content</a>\n",
       "[2] <div class=\"vector-header-container\">\\r\\n\\t<header class=\"vector-header m ...\n",
       "[3] <div class=\"mw-page-container\">\\r\\n\\t<div class=\"mw-page-container-inner\" ...\n",
       "[4] <div class=\"vector-header-container vector-sticky-header-container\">\\r\\n\\ ...\n",
       "[5] <div class=\"mw-portlet mw-portlet-dock-bottom emptyPortlet\" id=\"p-dock-bo ...\n",
       "[6] <script>(RLQ=window.RLQ||[]).push(function(){mw.config.set({\"wgHostname\": ...\n",
       "[7] <script type=\"application/ld+json\">{\"@context\":\"https:\\\\/\\\\/schema.org\",\" ..."
      ]
     },
     "metadata": {},
     "output_type": "display_data"
    }
   ],
   "source": [
    "root_node = webpage\n",
    "body_node = html_node(root_node,'body')\n",
    "body_node"
   ]
  },
  {
   "cell_type": "code",
   "execution_count": 6,
   "id": "771d6e77",
   "metadata": {
    "vscode": {
     "languageId": "r"
    }
   },
   "outputs": [
    {
     "data": {
      "text/html": [
       "'\\r\\n\\r\\n\\r\\n\\r\\n\\r\\n'"
      ],
      "text/latex": [
       "'\\textbackslash{}r\\textbackslash{}n\\textbackslash{}r\\textbackslash{}n\\textbackslash{}r\\textbackslash{}n\\textbackslash{}r\\textbackslash{}n\\textbackslash{}r\\textbackslash{}n'"
      ],
      "text/markdown": [
       "'\\r\\n\\r\\n\\r\\n\\r\\n\\r\\n'"
      ],
      "text/plain": [
       "[1] \"\\r\\n\\r\\n\\r\\n\\r\\n\\r\\n\""
      ]
     },
     "metadata": {},
     "output_type": "display_data"
    }
   ],
   "source": [
    "p_node = html_node(body_node,'p')\n",
    "p_content = html_text(p_node)\n",
    "p_content"
   ]
  },
  {
   "cell_type": "code",
   "execution_count": 7,
   "id": "6c038b7c",
   "metadata": {
    "vscode": {
     "languageId": "r"
    }
   },
   "outputs": [
    {
     "data": {
      "text/html": [
       "NA"
      ],
      "text/latex": [
       "NA"
      ],
      "text/markdown": [
       "NA"
      ],
      "text/plain": [
       "[1] NA"
      ]
     },
     "metadata": {},
     "output_type": "display_data"
    }
   ],
   "source": [
    "style_attr = html_attr(p_node,'style')\n",
    "style_attr"
   ]
  },
  {
   "cell_type": "code",
   "execution_count": 12,
   "id": "be9bb013",
   "metadata": {
    "vscode": {
     "languageId": "r"
    }
   },
   "outputs": [
    {
     "data": {
      "text/html": [
       "'/static/images/icons/wikipedia.png'"
      ],
      "text/latex": [
       "'/static/images/icons/wikipedia.png'"
      ],
      "text/markdown": [
       "'/static/images/icons/wikipedia.png'"
      ],
      "text/plain": [
       "[1] \"/static/images/icons/wikipedia.png\""
      ]
     },
     "metadata": {},
     "output_type": "display_data"
    }
   ],
   "source": [
    "url = 'https://en.wikipedia.org/wiki/COVID-19_pandemic'\n",
    "html_node = read_html('covid.html')\n",
    "\n",
    "img_node = html_node(html_node, 'img')\n",
    "\n",
    "img_relative_path = html_attr(img_node, 'src')\n",
    "img_relative_path\n",
    "\n",
    "image_path = paste(url, img_relative_path, sep=\"\")\n",
    "image_response = GET(image_path)"
   ]
  },
  {
   "cell_type": "code",
   "execution_count": 13,
   "id": "f8563830",
   "metadata": {
    "vscode": {
     "languageId": "r"
    }
   },
   "outputs": [],
   "source": [
    "image = content(image_response, 'raw')\n",
    "writeBin(image,\"covid.png\")"
   ]
  },
  {
   "cell_type": "code",
   "execution_count": 13,
   "id": "0dff70f7",
   "metadata": {
    "vscode": {
     "languageId": "r"
    }
   },
   "outputs": [],
   "source": [
    "table_url = \"https://en.wikipedia.org/wiki/COVID-19_testing\"\n",
    "root_node = read_html(table_url)\n",
    "table_node = html_node(root_node,'table')"
   ]
  },
  {
   "cell_type": "code",
   "execution_count": 14,
   "id": "8aa5f53e",
   "metadata": {
    "vscode": {
     "languageId": "r"
    }
   },
   "outputs": [
    {
     "data": {
      "text/html": [
       "<table class=\"dataframe\">\n",
       "<caption>A tibble: 6 × 1</caption>\n",
       "<thead>\n",
       "\t<tr><th scope=col>X1</th></tr>\n",
       "\t<tr><th scope=col>&lt;chr&gt;</th></tr>\n",
       "</thead>\n",
       "<tbody>\n",
       "\t<tr><td>Part of a series on the                                                                                                                                                                                                                                                                                                                                                                                                                                                                                                                                                                                                                                                                                             </td></tr>\n",
       "\t<tr><td>COVID-19 pandemic                                                                                                                                                                                                                                                                                                                                                                                                                                                                                                                                                                                                                                                                                                   </td></tr>\n",
       "\t<tr><td>Scientifically accurate atomic model of the external structure of SARS-CoV-2. Each \"ball\" is an atom.                                                                                                                                                                                                                                                                                                                                                                                                                                                                                                                                                                                                               </td></tr>\n",
       "\t<tr><td>COVID-19 (disease)\n",
       "SARS-CoV-2 (virus)Cases\n",
       "Deaths                                                                                                                                                                                                                                                                                                                                                                                                                                                                                                                                                                                                                                                                 </td></tr>\n",
       "\t<tr><td>Timeline\n",
       "20192020January\n",
       "responses\n",
       "February\n",
       "responses\n",
       "March\n",
       "responses\n",
       "April\n",
       "responses\n",
       "May\n",
       "responses\n",
       "June\n",
       "responses\n",
       "July\n",
       "responses\n",
       "August\n",
       "responses\n",
       "September\n",
       "responses\n",
       "October\n",
       "responses\n",
       "November\n",
       "responses\n",
       "December\n",
       "responses2021January\n",
       "responses\n",
       "February\n",
       "responses\n",
       "March\n",
       "responses\n",
       "April\n",
       "responses\n",
       "May\n",
       "responses\n",
       "June\n",
       "responses\n",
       "July\n",
       "responses\n",
       "August\n",
       "responses\n",
       "September\n",
       "responses\n",
       "October\n",
       "responses\n",
       "November\n",
       "responses\n",
       "December\n",
       "responses2022January\n",
       "responses\n",
       "February\n",
       "responses\n",
       "March\n",
       "responses\n",
       "April\n",
       "responses\n",
       "May\n",
       "responses\n",
       "June\n",
       "responses\n",
       "July\n",
       "responses\n",
       "August\n",
       "responses\n",
       "September\n",
       "responses\n",
       "October\n",
       "responses\n",
       "November\n",
       "December2023</td></tr>\n",
       "\t<tr><td>Locations\n",
       "By country and territoryAfrica\n",
       "Antarctica\n",
       "Asia\n",
       "Europe\n",
       "North America\n",
       "Oceania\n",
       "South AmericaBy conveyanceCruise ships\n",
       "Naval ships                                                                                                                                                                                                                                                                                                                                                                                                                                                                                                                                                                    </td></tr>\n",
       "</tbody>\n",
       "</table>\n"
      ],
      "text/latex": [
       "A tibble: 6 × 1\n",
       "\\begin{tabular}{l}\n",
       " X1\\\\\n",
       " <chr>\\\\\n",
       "\\hline\n",
       "\t Part of a series on the                                                                                                                                                                                                                                                                                                                                                                                                                                                                                                                                                                                                                                                                                             \\\\\n",
       "\t COVID-19 pandemic                                                                                                                                                                                                                                                                                                                                                                                                                                                                                                                                                                                                                                                                                                   \\\\\n",
       "\t Scientifically accurate atomic model of the external structure of SARS-CoV-2. Each \"ball\" is an atom.                                                                                                                                                                                                                                                                                                                                                                                                                                                                                                                                                                                                               \\\\\n",
       "\t COVID-19 (disease)\n",
       "SARS-CoV-2 (virus)Cases\n",
       "Deaths                                                                                                                                                                                                                                                                                                                                                                                                                                                                                                                                                                                                                                                                 \\\\\n",
       "\t Timeline\n",
       "20192020January\n",
       "responses\n",
       "February\n",
       "responses\n",
       "March\n",
       "responses\n",
       "April\n",
       "responses\n",
       "May\n",
       "responses\n",
       "June\n",
       "responses\n",
       "July\n",
       "responses\n",
       "August\n",
       "responses\n",
       "September\n",
       "responses\n",
       "October\n",
       "responses\n",
       "November\n",
       "responses\n",
       "December\n",
       "responses2021January\n",
       "responses\n",
       "February\n",
       "responses\n",
       "March\n",
       "responses\n",
       "April\n",
       "responses\n",
       "May\n",
       "responses\n",
       "June\n",
       "responses\n",
       "July\n",
       "responses\n",
       "August\n",
       "responses\n",
       "September\n",
       "responses\n",
       "October\n",
       "responses\n",
       "November\n",
       "responses\n",
       "December\n",
       "responses2022January\n",
       "responses\n",
       "February\n",
       "responses\n",
       "March\n",
       "responses\n",
       "April\n",
       "responses\n",
       "May\n",
       "responses\n",
       "June\n",
       "responses\n",
       "July\n",
       "responses\n",
       "August\n",
       "responses\n",
       "September\n",
       "responses\n",
       "October\n",
       "responses\n",
       "November\n",
       "December2023\\\\\n",
       "\t Locations\n",
       "By country and territoryAfrica\n",
       "Antarctica\n",
       "Asia\n",
       "Europe\n",
       "North America\n",
       "Oceania\n",
       "South AmericaBy conveyanceCruise ships\n",
       "Naval ships                                                                                                                                                                                                                                                                                                                                                                                                                                                                                                                                                                    \\\\\n",
       "\\end{tabular}\n"
      ],
      "text/markdown": [
       "\n",
       "A tibble: 6 × 1\n",
       "\n",
       "| X1 &lt;chr&gt; |\n",
       "|---|\n",
       "| Part of a series on the                                                                                                                                                                                                                                                                                                                                                                                                                                                                                                                                                                                                                                                                                              |\n",
       "| COVID-19 pandemic                                                                                                                                                                                                                                                                                                                                                                                                                                                                                                                                                                                                                                                                                                    |\n",
       "| Scientifically accurate atomic model of the external structure of SARS-CoV-2. Each \"ball\" is an atom.                                                                                                                                                                                                                                                                                                                                                                                                                                                                                                                                                                                                                |\n",
       "| COVID-19 (disease)\n",
       "SARS-CoV-2 (virus)Cases\n",
       "Deaths                                                                                                                                                                                                                                                                                                                                                                                                                                                                                                                                                                                                                                                                  |\n",
       "| Timeline\n",
       "20192020January\n",
       "responses\n",
       "February\n",
       "responses\n",
       "March\n",
       "responses\n",
       "April\n",
       "responses\n",
       "May\n",
       "responses\n",
       "June\n",
       "responses\n",
       "July\n",
       "responses\n",
       "August\n",
       "responses\n",
       "September\n",
       "responses\n",
       "October\n",
       "responses\n",
       "November\n",
       "responses\n",
       "December\n",
       "responses2021January\n",
       "responses\n",
       "February\n",
       "responses\n",
       "March\n",
       "responses\n",
       "April\n",
       "responses\n",
       "May\n",
       "responses\n",
       "June\n",
       "responses\n",
       "July\n",
       "responses\n",
       "August\n",
       "responses\n",
       "September\n",
       "responses\n",
       "October\n",
       "responses\n",
       "November\n",
       "responses\n",
       "December\n",
       "responses2022January\n",
       "responses\n",
       "February\n",
       "responses\n",
       "March\n",
       "responses\n",
       "April\n",
       "responses\n",
       "May\n",
       "responses\n",
       "June\n",
       "responses\n",
       "July\n",
       "responses\n",
       "August\n",
       "responses\n",
       "September\n",
       "responses\n",
       "October\n",
       "responses\n",
       "November\n",
       "December2023 |\n",
       "| Locations\n",
       "By country and territoryAfrica\n",
       "Antarctica\n",
       "Asia\n",
       "Europe\n",
       "North America\n",
       "Oceania\n",
       "South AmericaBy conveyanceCruise ships\n",
       "Naval ships                                                                                                                                                                                                                                                                                                                                                                                                                                                                                                                                                                     |\n",
       "\n"
      ],
      "text/plain": [
       "  X1                                                                                                                                                                                                                                                                                                                                                                                                                                                                                                                                                                                                                                                                                                                  \n",
       "1 Part of a series on the                                                                                                                                                                                                                                                                                                                                                                                                                                                                                                                                                                                                                                                                                             \n",
       "2 COVID-19 pandemic                                                                                                                                                                                                                                                                                                                                                                                                                                                                                                                                                                                                                                                                                                   \n",
       "3 Scientifically accurate atomic model of the external structure of SARS-CoV-2. Each \"ball\" is an atom.                                                                                                                                                                                                                                                                                                                                                                                                                                                                                                                                                                                                               \n",
       "4 COVID-19 (disease)\\nSARS-CoV-2 (virus)Cases\\nDeaths                                                                                                                                                                                                                                                                                                                                                                                                                                                                                                                                                                                                                                                                 \n",
       "5 Timeline\\n20192020January\\nresponses\\nFebruary\\nresponses\\nMarch\\nresponses\\nApril\\nresponses\\nMay\\nresponses\\nJune\\nresponses\\nJuly\\nresponses\\nAugust\\nresponses\\nSeptember\\nresponses\\nOctober\\nresponses\\nNovember\\nresponses\\nDecember\\nresponses2021January\\nresponses\\nFebruary\\nresponses\\nMarch\\nresponses\\nApril\\nresponses\\nMay\\nresponses\\nJune\\nresponses\\nJuly\\nresponses\\nAugust\\nresponses\\nSeptember\\nresponses\\nOctober\\nresponses\\nNovember\\nresponses\\nDecember\\nresponses2022January\\nresponses\\nFebruary\\nresponses\\nMarch\\nresponses\\nApril\\nresponses\\nMay\\nresponses\\nJune\\nresponses\\nJuly\\nresponses\\nAugust\\nresponses\\nSeptember\\nresponses\\nOctober\\nresponses\\nNovember\\nDecember2023\n",
       "6 Locations\\nBy country and territoryAfrica\\nAntarctica\\nAsia\\nEurope\\nNorth America\\nOceania\\nSouth AmericaBy conveyanceCruise ships\\nNaval ships                                                                                                                                                                                                                                                                                                                                                                                                                                                                                                                                                                    "
      ]
     },
     "metadata": {},
     "output_type": "display_data"
    }
   ],
   "source": [
    "color_df = html_table(table_node)\n",
    "head(color_df)"
   ]
  },
  {
   "cell_type": "code",
   "execution_count": 15,
   "id": "c5567746",
   "metadata": {
    "vscode": {
     "languageId": "r"
    }
   },
   "outputs": [
    {
     "data": {
      "text/html": [
       "<table class=\"dataframe\">\n",
       "<caption>A tibble: 6 × 9</caption>\n",
       "<thead>\n",
       "\t<tr><th scope=col>Country or region</th><th scope=col>Date[a]</th><th scope=col>Tested</th><th scope=col>Units[b]</th><th scope=col>Confirmed(cases)</th><th scope=col>Confirmed /tested,%</th><th scope=col>Tested /population,%</th><th scope=col>Confirmed /population,%</th><th scope=col>Ref.</th></tr>\n",
       "\t<tr><th scope=col>&lt;chr&gt;</th><th scope=col>&lt;chr&gt;</th><th scope=col>&lt;chr&gt;</th><th scope=col>&lt;chr&gt;</th><th scope=col>&lt;chr&gt;</th><th scope=col>&lt;chr&gt;</th><th scope=col>&lt;chr&gt;</th><th scope=col>&lt;chr&gt;</th><th scope=col>&lt;chr&gt;</th></tr>\n",
       "</thead>\n",
       "<tbody>\n",
       "\t<tr><td>Afghanistan        </td><td>17 Dec 2020</td><td>154,767</td><td>samples</td><td>49,621</td><td>32.1</td><td>0.40</td><td>0.13 </td><td>[257]     </td></tr>\n",
       "\t<tr><td>Albania            </td><td>18 Feb 2021</td><td>428,654</td><td>samples</td><td>96,838</td><td>22.6</td><td>15.0</td><td>3.4  </td><td>[258]     </td></tr>\n",
       "\t<tr><td>Algeria            </td><td>2 Nov 2020 </td><td>230,553</td><td>samples</td><td>58,574</td><td>25.4</td><td>0.53</td><td>0.13 </td><td>[259][260]</td></tr>\n",
       "\t<tr><td>Andorra            </td><td>23 Feb 2022</td><td>300,307</td><td>samples</td><td>37,958</td><td>12.6</td><td>387 </td><td>49.0 </td><td>[261]     </td></tr>\n",
       "\t<tr><td>Angola             </td><td>2 Feb 2021 </td><td>399,228</td><td>samples</td><td>20,981</td><td>5.3 </td><td>1.3 </td><td>0.067</td><td>[262]     </td></tr>\n",
       "\t<tr><td>Antigua and Barbuda</td><td>6 Mar 2021 </td><td>15,268 </td><td>samples</td><td>832   </td><td>5.4 </td><td>15.9</td><td>0.86 </td><td>[263]     </td></tr>\n",
       "</tbody>\n",
       "</table>\n"
      ],
      "text/latex": [
       "A tibble: 6 × 9\n",
       "\\begin{tabular}{lllllllll}\n",
       " Country or region & Date{[}a{]} & Tested & Units{[}b{]} & Confirmed(cases) & Confirmed /tested,\\% & Tested /population,\\% & Confirmed /population,\\% & Ref.\\\\\n",
       " <chr> & <chr> & <chr> & <chr> & <chr> & <chr> & <chr> & <chr> & <chr>\\\\\n",
       "\\hline\n",
       "\t Afghanistan         & 17 Dec 2020 & 154,767 & samples & 49,621 & 32.1 & 0.40 & 0.13  & {[}257{]}     \\\\\n",
       "\t Albania             & 18 Feb 2021 & 428,654 & samples & 96,838 & 22.6 & 15.0 & 3.4   & {[}258{]}     \\\\\n",
       "\t Algeria             & 2 Nov 2020  & 230,553 & samples & 58,574 & 25.4 & 0.53 & 0.13  & {[}259{]}{[}260{]}\\\\\n",
       "\t Andorra             & 23 Feb 2022 & 300,307 & samples & 37,958 & 12.6 & 387  & 49.0  & {[}261{]}     \\\\\n",
       "\t Angola              & 2 Feb 2021  & 399,228 & samples & 20,981 & 5.3  & 1.3  & 0.067 & {[}262{]}     \\\\\n",
       "\t Antigua and Barbuda & 6 Mar 2021  & 15,268  & samples & 832    & 5.4  & 15.9 & 0.86  & {[}263{]}     \\\\\n",
       "\\end{tabular}\n"
      ],
      "text/markdown": [
       "\n",
       "A tibble: 6 × 9\n",
       "\n",
       "| Country or region &lt;chr&gt; | Date[a] &lt;chr&gt; | Tested &lt;chr&gt; | Units[b] &lt;chr&gt; | Confirmed(cases) &lt;chr&gt; | Confirmed /tested,% &lt;chr&gt; | Tested /population,% &lt;chr&gt; | Confirmed /population,% &lt;chr&gt; | Ref. &lt;chr&gt; |\n",
       "|---|---|---|---|---|---|---|---|---|\n",
       "| Afghanistan         | 17 Dec 2020 | 154,767 | samples | 49,621 | 32.1 | 0.40 | 0.13  | [257]      |\n",
       "| Albania             | 18 Feb 2021 | 428,654 | samples | 96,838 | 22.6 | 15.0 | 3.4   | [258]      |\n",
       "| Algeria             | 2 Nov 2020  | 230,553 | samples | 58,574 | 25.4 | 0.53 | 0.13  | [259][260] |\n",
       "| Andorra             | 23 Feb 2022 | 300,307 | samples | 37,958 | 12.6 | 387  | 49.0  | [261]      |\n",
       "| Angola              | 2 Feb 2021  | 399,228 | samples | 20,981 | 5.3  | 1.3  | 0.067 | [262]      |\n",
       "| Antigua and Barbuda | 6 Mar 2021  | 15,268  | samples | 832    | 5.4  | 15.9 | 0.86  | [263]      |\n",
       "\n"
      ],
      "text/plain": [
       "  Country or region   Date[a]     Tested  Units[b] Confirmed(cases)\n",
       "1 Afghanistan         17 Dec 2020 154,767 samples  49,621          \n",
       "2 Albania             18 Feb 2021 428,654 samples  96,838          \n",
       "3 Algeria             2 Nov 2020  230,553 samples  58,574          \n",
       "4 Andorra             23 Feb 2022 300,307 samples  37,958          \n",
       "5 Angola              2 Feb 2021  399,228 samples  20,981          \n",
       "6 Antigua and Barbuda 6 Mar 2021  15,268  samples  832             \n",
       "  Confirmed /tested,% Tested /population,% Confirmed /population,% Ref.      \n",
       "1 32.1                0.40                 0.13                    [257]     \n",
       "2 22.6                15.0                 3.4                     [258]     \n",
       "3 25.4                0.53                 0.13                    [259][260]\n",
       "4 12.6                387                  49.0                    [261]     \n",
       "5 5.3                 1.3                  0.067                   [262]     \n",
       "6 5.4                 15.9                 0.86                    [263]     "
      ]
     },
     "metadata": {},
     "output_type": "display_data"
    }
   ],
   "source": [
    "library(rvest) \n",
    "library(httr)\n",
    "\n",
    "# Read the HTML content of the website \n",
    "webpage <- read_html(\"https://en.wikipedia.org/wiki/COVID-19_testing\") \n",
    "\n",
    "# Select the table using CSS selector \n",
    "table_node <- html_nodes(webpage, \"table\") \n",
    "\n",
    "# Extract the table content \n",
    "table_content <- html_table(table_node)[[3]]\n",
    "\n",
    "# Print the table \n",
    "head(table_content)\n"
   ]
  },
  {
   "cell_type": "code",
   "execution_count": null,
   "id": "7b8d736a",
   "metadata": {
    "vscode": {
     "languageId": "r"
    }
   },
   "outputs": [],
   "source": []
  }
 ],
 "metadata": {
  "kernelspec": {
   "display_name": "R",
   "language": "R",
   "name": "ir"
  },
  "language_info": {
   "codemirror_mode": "r",
   "file_extension": ".r",
   "mimetype": "text/x-r-source",
   "name": "R",
   "pygments_lexer": "r",
   "version": "4.4.3"
  }
 },
 "nbformat": 4,
 "nbformat_minor": 5
}
